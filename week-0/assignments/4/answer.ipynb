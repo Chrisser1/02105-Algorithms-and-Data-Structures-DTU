{
 "cells": [
  {
   "cell_type": "markdown",
   "metadata": {},
   "source": [
    "### Linearthritis \n",
    "You have recently hired 128 programmers for your new high-tech startup company. Unfortunately,\n",
    "one suffers from the feared Linearthritis disease that makes everybody near the person write slow programs. To identify\n",
    "the diseased programmer, you have rented a special room that you can use to determine if the diseased programmer\n",
    "is within a group of your programmers. It is extremely expensive to rent this room, and the process needed to test a\n",
    "group is complicated (long and exhausting programming tests are necessary). Therefore, you would like to minimize the\n",
    "number of times you have to use the room to find the diseased programmer. Solve the following exercises."
   ]
  },
  {
   "cell_type": "markdown",
   "metadata": {},
   "source": [
    "* Show you can find the diseased programmer using at most 7 tests.\n",
    "\n",
    "Let's assume we split the total in two ($2 \\cdot 64$) and test them, then we find witch group that has the diseased programmer and split that group once more ($2 \\cdot 32$) and continue this way until we are left with the diseased programmer. The worst case scenario can be calculated as $\\lceil log2(128) \\rceil = \\lceil 7 \\rceil$ as that is the most times we can split 128 by two."
   ]
  },
  {
   "cell_type": "markdown",
   "metadata": {},
   "source": [
    "* How many tests do you need if you have n programmers instead of 128?\n",
    "\n",
    "To describe this we just use our equation that says that at most we need to do $\\lceil log2(n) \\rceil$ tests."
   ]
  },
  {
   "cell_type": "markdown",
   "metadata": {},
   "source": [
    "* [∗] Assume that you rent $k > 1$ rooms you can use to test k groups of programmers simultaneously. How many\n",
    "rounds of tests are enough to identify the diseased programmer? In each round, you can test k groups in parallel.\n",
    "\n",
    "Assume that you have $k > 1$ rooms available, so that you can test $k$ groups of programmers simultaneously in each round. One effective strategy is to divide the $n$ programmers into $k+1$ groups as evenly as possible.\n",
    "\n",
    "**How the Strategy Works:**\n",
    "1. Partition: Split the $n$ programmers into $k+1$ groups.\n",
    "2. Test: Use the $k$ rooms to test $k$ of these groups concurrently. The untested group serves as a \"default\" in case all $k$ tests are negative.\n",
    "3. Outcome:  \n",
    "   - If one of the tests is positive, the diseased programmer is in that group.\n",
    "   - If all tests are negative, the diseased programmer is in the untested group.\n",
    "\n",
    "Since each round of testing can distinguish among $k+1$ groups, the total number of rounds required to identify the diseased programmer is:\n",
    "$$\n",
    "\\lceil \\log_{k+1}(n) \\rceil.\n",
    "$$\n"
   ]
  }
 ],
 "metadata": {
  "language_info": {
   "name": "python"
  }
 },
 "nbformat": 4,
 "nbformat_minor": 2
}
