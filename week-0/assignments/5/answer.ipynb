{
 "cells": [
  {
   "cell_type": "markdown",
   "metadata": {},
   "source": [
    "### Zombie Duels \n",
    "You have an army of n brainless zombies. You want to find the strongest and the weakest zombie\n",
    "in the army. By pairing up two zombies in a cage with a big chunk of brain matter, you can quickly determine which of\n",
    "the two are the strongest. Unfortunately, zombies wear out in this process, so you want to minimize the number of duels\n",
    "needed. Solve the following exercises."
   ]
  },
  {
   "cell_type": "markdown",
   "metadata": {},
   "source": [
    "* ### Explain how to find the strongest zombie using at most n − 1 duels.\n",
    "\n",
    "To explain this we will use a tournament-style duel system.\n",
    "\n",
    "1. Pair the zombies\n",
    "\n",
    "We arrange the $n$ zombies arbitary in pairs. Then for each pair we have them duel it out. In each dual the winner must then be the strongest zombie. If $n$ is odd, then we let one zombie win and andvance by default.\n",
    "\n",
    "2. Advance the winners\n",
    "\n",
    "After each round we let the winners advance. After the first round we have $\\lceil \\frac{n}{2} \\rceil$ zombies left, where ceil would take the odd zombie into account if n is odd.\n",
    "\n",
    "3. Repeat of the process\n",
    "\n",
    "Continue pairing the winners and having them duel. In each subsequent round, eliminate the loser from each duel. Repeat this until only one zombie remains. This final zombie is the strongest in the entire army.\n",
    "\n",
    "4. Counting the Duels\n",
    "\n",
    "Every duel eliminates one zombie from contention. Starting with $n$ zombies, you need to eliminate $n−1$ zombies to be left with one final champion. Therefore, you need at most $n−1$ duels."
   ]
  },
  {
   "cell_type": "markdown",
   "metadata": {},
   "source": [
    "* ### [∗] Explain how to find the strongest and the weakest zombie using at most $\\frac{3n}{2}$ duels.\n",
    "\n",
    "To find both the strongest and the weakest zombie among $ n $ zombies efficiently, we can use the following strategy:\n",
    "\n",
    "1. **Pairing the Zombies:**  \n",
    "   Divide the $ n $ zombies into pairs. If $ n $ is odd, one zombie will remain unpaired for now.\n",
    "\n",
    "2. **Dueling Within Each Pair:**  \n",
    "   For each pair, have the two zombies duel:\n",
    "   - **Winner:** Candidate for the strongest zombie.\n",
    "   - **Loser:** Candidate for the weakest zombie.  \n",
    "   This step requires at most $\\lfloor n/2 \\rfloor$ duels.\n",
    "\n",
    "3. **Finding the Strongest Zombie:**  \n",
    "   Take all the winners from the duels and have them compete in a tournament (i.e., repeatedly duel in pairs) to find the strongest zombie. This requires $\\lfloor n/2 \\rfloor - 1$ duels.\n",
    "\n",
    "4. **Finding the Weakest Zombie:**  \n",
    "   Similarly, take all the losers from the duels and have them duel in a tournament to find the weakest zombie. This also requires $\\lfloor n/2 \\rfloor - 1$ duels.\n",
    "\n",
    "5. **Handling an Unpaired Zombie (if $ n $ is odd):**  \n",
    "   If one zombie did not get paired, duel it with the current strongest and the current weakest, updating them as necessary. This adds at most 2 duels.\n",
    "\n",
    "#### Duel Count Analysis:\n",
    "- **Even $ n $:**\n",
    "  - Pairing: $ n/2 $ duels.\n",
    "  - Finding the strongest: $ n/2 - 1 $ duels.\n",
    "  - Finding the weakest: $ n/2 - 1 $ duels.  \n",
    "  **Total:** $\\frac{n}{2} + \\left(\\frac{n}{2} - 1\\right) + \\left(\\frac{n}{2} - 1\\right) = \\frac{3n}{2} - 2$ duels.\n",
    "\n",
    "- **Odd $ n $:**  \n",
    "  Apply the above procedure on $ n-1 $ zombies, then handle the unpaired zombie with 2 extra duels, for a total of at most $\\frac{3n}{2}$ duels.\n",
    "\n",
    "Thus, we can identify both the strongest and the weakest zombies in at most $\\frac{3n}{2}$ duels.\n"
   ]
  },
  {
   "cell_type": "markdown",
   "metadata": {},
   "source": [
    "* ### [∗∗] Explain how to find the strongest and second strongest zombie using at most $n + log2(n)$ duels.\n",
    "\n",
    "We can achieve this by using a two-phase strategy:\n",
    "\n",
    "1. **Determine the Strongest Zombie with a Knockout Tournament:**\n",
    "   - **Setup:** Arrange the $n$ zombies in a knockout (single-elimination) tournament.\n",
    "   - **Duels:** In each duel, two zombies face off and the stronger wins. The loser is eliminated from being the champion.\n",
    "   - **Duel Count:** Since each duel eliminates one zombie, a tournament with $n$ participants requires exactly $n - 1$ duels.\n",
    "   - **Record Keeping:** For every duel that involves the eventual champion, record the opponent that loses. Since the tournament bracket is like a binary tree, the champion will have competed in at most $\\lceil \\log_2(n) \\rceil$ rounds (and therefore duels).\n",
    "\n",
    "2. **Determine the Second Strongest Zombie from the Recorded Losers:**\n",
    "   - **Candidates:** Only the zombies that lost directly to the champion could possibly be the second strongest.\n",
    "   - **Mini-Tournament:** Arrange these candidates (there are at most $\\lceil \\log_2(n) \\rceil$ of them) into another knockout tournament to find the strongest among them.\n",
    "   - **Duel Count:** A tournament among these candidates requires at most $\\lceil \\log_2(n) \\rceil - 1$ duels.\n",
    "\n",
    "3. **Total Duel Count:**\n",
    "   - Duels to find the strongest: $n - 1$.\n",
    "   - Duels to determine the second strongest: $\\lceil \\log_2(n) \\rceil - 1$.\n",
    "   - **Sum:**\n",
    "     $$\n",
    "     (n - 1) + (\\lceil \\log_2(n) \\rceil - 1) = n + \\lceil \\log_2(n) \\rceil - 2.\n",
    "     $$\n",
    "   - Since $n + \\lceil \\log_2(n) \\rceil - 2 \\le n + \\lceil \\log_2(n) \\rceil$, our method uses at most $n + \\log_2(n)$ duels (noting that $\\lceil \\log_2(n) \\rceil$ is at most a constant more than $\\log_2(n)$).\n",
    "\n",
    "Thus, by following this approach, we can identify both the strongest and the second strongest zombie with no more than $n + \\log_2(n)$ duels."
   ]
  },
  {
   "cell_type": "markdown",
   "metadata": {},
   "source": []
  }
 ],
 "metadata": {
  "language_info": {
   "name": "python"
  }
 },
 "nbformat": 4,
 "nbformat_minor": 2
}
