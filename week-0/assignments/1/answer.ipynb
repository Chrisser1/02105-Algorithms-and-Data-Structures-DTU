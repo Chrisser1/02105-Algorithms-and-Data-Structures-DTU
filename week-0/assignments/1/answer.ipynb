{
 "cells": [
  {
   "cell_type": "markdown",
   "metadata": {},
   "source": [
    "![image.png](../../../images/figure-1-Loops-and-recursion-in-python.png)\n",
    "### Loops \n",
    "This exercise aims to check if you understand some basic programming concepts. Do not implement the\n",
    "functions. What do the functions loop1, loop2, loop3 and loop4 in Figure 1 return when\n",
    "\n",
    "* $n = 4$?\n"
   ]
  },
  {
   "cell_type": "markdown",
   "metadata": {},
   "source": [
    "### Answer\n",
    "* loop1 returns: 16\n",
    "* loop2 returns: 8\n",
    "* loop3 returns: 4\n",
    "* loop4 returns: 10"
   ]
  },
  {
   "cell_type": "markdown",
   "metadata": {},
   "source": [
    "* $n = 10$?"
   ]
  },
  {
   "cell_type": "markdown",
   "metadata": {},
   "source": [
    "### Answer\n",
    "* loop1 returns: 100\n",
    "* loop2 returns: 20\n",
    "* loop3 returns: 10\n",
    "* loop4 returns: 55"
   ]
  },
  {
   "cell_type": "markdown",
   "metadata": {},
   "source": [
    "* $n = 1000$?"
   ]
  },
  {
   "cell_type": "markdown",
   "metadata": {},
   "source": [
    "### Answer\n",
    "* loop1 returns: 1000000\n",
    "* loop2 returns: 2000\n",
    "* loop3 returns: 1000\n",
    "* loop4 returns: 500500 "
   ]
  },
  {
   "cell_type": "markdown",
   "metadata": {},
   "source": [
    "* as a function of n?"
   ]
  },
  {
   "cell_type": "markdown",
   "metadata": {},
   "source": [
    "### Answer\n",
    "* loop1 returns: $n \\cdot n$\n",
    "* loop2 returns: $n + n$\n",
    "* loop3 returns: $n$\n",
    "* loop4 returns: $\\frac{n(n+1)}{2}$"
   ]
  },
  {
   "cell_type": "markdown",
   "metadata": {},
   "source": []
  }
 ],
 "metadata": {
  "language_info": {
   "name": "python"
  }
 },
 "nbformat": 4,
 "nbformat_minor": 2
}
