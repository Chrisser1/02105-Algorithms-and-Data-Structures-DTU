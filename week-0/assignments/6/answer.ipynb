{
 "cells": [
  {
   "cell_type": "markdown",
   "metadata": {},
   "source": [
    "### [∗∗] Ants on a Stick \n",
    "Suppose that you have 100 ants on a stick of length 100 cm. At the start, each ant is placed\n",
    "at some position on the stick, pointing either toward the left or right end of the stick. Then, all ants begin to move\n",
    "simultaneously. The ants all move at a speed of 1 cm per second. If an ant bumps into another ant, they both immediately\n",
    "reverse directions and continue at the same speed, and if an ant reaches the end of the stick, it falls off the stick. What\n",
    "is the maximum duration of time before all ants have fallen off the stick over all possible initial placements of the ants?"
   ]
  },
  {
   "cell_type": "markdown",
   "metadata": {},
   "source": [
    "### Answer\n",
    "While at first the question might seem difficult, we can just think of two ants bouncing off each other as them passing by each other. This is beacause two ants bouncing off each other is equivalent to two ants that pass through each other, in the sense that the positions of ants in each case are identical. Viewed in this way, all ants fall off after traversing the length of the stick, i.e., the longest that you would need to wait to ensure that all ants are off is 100 sec."
   ]
  }
 ],
 "metadata": {
  "language_info": {
   "name": "python"
  }
 },
 "nbformat": 4,
 "nbformat_minor": 2
}
